{
 "cells": [
  {
   "cell_type": "code",
   "execution_count": 3,
   "id": "5e1487b4-5a14-4f2a-b5e7-bcd4df636f92",
   "metadata": {},
   "outputs": [
    {
     "name": "stdout",
     "output_type": "stream",
     "text": [
      "<class 'list'>\n",
      "[3, 2, 5, 88, 6, 1, 313, 75, 'Vedanti']\n"
     ]
    }
   ],
   "source": [
    "list1=[3,2,5,88,6,1,313,75,\"Vedanti\"]\n",
    "print(type(list1))\n",
    "print(list1)"
   ]
  },
  {
   "cell_type": "markdown",
   "id": "0c93f5e2-1a78-4f05-85d0-5dcd9fe85c91",
   "metadata": {},
   "source": [
    "## The below Python functions are used to change the case of the strings."
   ]
  },
  {
   "cell_type": "markdown",
   "id": "f7377ce5-ff03-40e1-8bfe-e8cfbc57d314",
   "metadata": {},
   "source": [
    "### **remove()**:Removes the first item with the specified value"
   ]
  },
  {
   "cell_type": "code",
   "execution_count": 13,
   "id": "fc013a8c-3c72-48b7-a9de-6b871c257fe4",
   "metadata": {},
   "outputs": [
    {
     "name": "stdout",
     "output_type": "stream",
     "text": [
      "['Alice', 'Bob', 'Charlie', 'Vedanti', 'David']\n",
      "['Alice', 'Bob', 'Charlie', 'David']\n"
     ]
    }
   ],
   "source": [
    "list2 = ['Alice', 'Bob', 'Charlie', 'Vedanti', 'David']\n",
    "print(list2)\n",
    "list2.remove('Vedanti')\n",
    "print(list1)"
   ]
  },
  {
   "cell_type": "markdown",
   "id": "ed186787-c2ba-459d-8967-5eb1e399ca64",
   "metadata": {},
   "source": [
    "### **count():** Returns the number of elements with the specified value"
   ]
  },
  {
   "cell_type": "code",
   "execution_count": 14,
   "id": "8897f27e-4c3a-407b-9a1b-af2dc4c22e10",
   "metadata": {},
   "outputs": [
    {
     "name": "stdout",
     "output_type": "stream",
     "text": [
      "[1, 2, 2, 2, 2, 3, 4, 5]\n"
     ]
    },
    {
     "data": {
      "text/plain": [
       "4"
      ]
     },
     "execution_count": 14,
     "metadata": {},
     "output_type": "execute_result"
    }
   ],
   "source": [
    "list3 = [1,2,2,2,2,3,4,5]\n",
    "print(list3)\n",
    "list3.count(2)\n"
   ]
  },
  {
   "cell_type": "markdown",
   "id": "3a7c39a3-681e-4984-bf4d-1b4f48d8a817",
   "metadata": {},
   "source": [
    "### **sort():** Sorts the list"
   ]
  },
  {
   "cell_type": "code",
   "execution_count": 17,
   "id": "3c3d456c-7d14-477b-ae4a-01f933117157",
   "metadata": {},
   "outputs": [
    {
     "name": "stdout",
     "output_type": "stream",
     "text": [
      "[1, 2, 3, 5, 6, 7]\n"
     ]
    }
   ],
   "source": [
    "list4= [1,2 , 5 , 3 ,7 ,6]\n",
    "list4.sort()\n",
    "print(list4)"
   ]
  },
  {
   "cell_type": "markdown",
   "id": "0aecb711-9366-43ea-ab29-1a0de8782f88",
   "metadata": {},
   "source": [
    "### **append():** Adds an element at the end of the list\n",
    "\n"
   ]
  },
  {
   "cell_type": "markdown",
   "id": "6077f1dc-543b-4c1c-b448-2126677268d1",
   "metadata": {},
   "source": [
    "### **clear():** Removes all the elements from the list\n"
   ]
  },
  {
   "cell_type": "markdown",
   "id": "67da21aa-3de5-47d8-816d-42bc3e8c657b",
   "metadata": {},
   "source": [
    "### **copy():** Returns a copy of the list\n"
   ]
  },
  {
   "cell_type": "markdown",
   "id": "8ae8cac0-7895-490f-ab0b-71b2575f76a3",
   "metadata": {},
   "source": [
    "### **extend():** Add the elements of a list (or any iterable), to the end of the current list\n"
   ]
  },
  {
   "cell_type": "markdown",
   "id": "8e4b2cfd-5723-41bc-9818-e061d93b6fca",
   "metadata": {},
   "source": [
    "### **index():** Returns the index of the first element with the specified value\n"
   ]
  },
  {
   "cell_type": "markdown",
   "id": "5fdb9827-ffff-4522-9658-9692164cff3c",
   "metadata": {},
   "source": [
    "### **insert():** Adds an element at the specified position\n"
   ]
  },
  {
   "cell_type": "markdown",
   "id": "c561ede4-7ff3-4575-aa0f-22cb45893ea2",
   "metadata": {},
   "source": [
    "### **pop():** Removes the element at the specified position\n"
   ]
  },
  {
   "cell_type": "markdown",
   "id": "b88627ee-7ff3-46d6-b4cc-0d26809918b1",
   "metadata": {},
   "source": [
    "### **reverse():** Reverses the order of the list"
   ]
  },
  {
   "cell_type": "code",
   "execution_count": null,
   "id": "320b1d44-6c05-4f7c-82d1-5c4749319913",
   "metadata": {},
   "outputs": [],
   "source": []
  }
 ],
 "metadata": {
  "kernelspec": {
   "display_name": "Python 3 (ipykernel)",
   "language": "python",
   "name": "python3"
  },
  "language_info": {
   "codemirror_mode": {
    "name": "ipython",
    "version": 3
   },
   "file_extension": ".py",
   "mimetype": "text/x-python",
   "name": "python",
   "nbconvert_exporter": "python",
   "pygments_lexer": "ipython3",
   "version": "3.11.7"
  }
 },
 "nbformat": 4,
 "nbformat_minor": 5
}
