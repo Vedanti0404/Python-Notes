{
 "cells": [
  {
   "cell_type": "code",
   "execution_count": 12,
   "id": "ae54f943-068a-4417-9686-0bedd0f6fc3f",
   "metadata": {},
   "outputs": [
    {
     "name": "stdout",
     "output_type": "stream",
     "text": [
      "Vedanti\n"
     ]
    }
   ],
   "source": [
    "name='Vedanti'\n",
    "print(name)\n",
    "number=33\n"
   ]
  },
  {
   "cell_type": "code",
   "execution_count": 2,
   "id": "f7716221-5306-4224-b6f1-9541723f2182",
   "metadata": {},
   "outputs": [
    {
     "name": "stdout",
     "output_type": "stream",
     "text": [
      "Ved\n"
     ]
    }
   ],
   "source": [
    "print(name[0:3])\n",
    "#Printing from the 0th index character upto the 2nd index character (3-1) means 'V' to 'd' ."
   ]
  },
  {
   "cell_type": "code",
   "execution_count": 3,
   "id": "71468da4-2ea4-4cea-99bb-ef6d68990062",
   "metadata": {},
   "outputs": [
    {
     "name": "stdout",
     "output_type": "stream",
     "text": [
      "eda\n"
     ]
    }
   ],
   "source": [
    "print(name[1:4])\n"
   ]
  },
  {
   "cell_type": "markdown",
   "id": "af078db4-e5b6-4212-9c03-d81b9ec00cca",
   "metadata": {},
   "source": [
    "### The below Python functions are used to change the case of the strings. "
   ]
  },
  {
   "cell_type": "markdown",
   "id": "a39fd491-4dbc-4e14-b8b6-e796bdc6b7d7",
   "metadata": {},
   "source": [
    "**lower():** Converts all uppercase characters in a string into lowercase\n"
   ]
  },
  {
   "cell_type": "code",
   "execution_count": 4,
   "id": "c432b74e-2235-486c-be76-8a0a7d50b045",
   "metadata": {},
   "outputs": [
    {
     "name": "stdout",
     "output_type": "stream",
     "text": [
      "vedanti\n"
     ]
    }
   ],
   "source": [
    "print(name.lower())"
   ]
  },
  {
   "cell_type": "markdown",
   "id": "0d11944d-b8f0-434d-8563-44643690c868",
   "metadata": {},
   "source": [
    "**upper():** Converts all lowercase characters in a string into uppercase\n"
   ]
  },
  {
   "cell_type": "code",
   "execution_count": 5,
   "id": "6e1d30e1-5771-49cd-ae52-feb2c9e959c4",
   "metadata": {},
   "outputs": [
    {
     "name": "stdout",
     "output_type": "stream",
     "text": [
      "VEDANTI\n"
     ]
    }
   ],
   "source": [
    "print(name.upper())"
   ]
  },
  {
   "cell_type": "markdown",
   "id": "dacaeb47-8f13-4b94-afbe-6e9e2b6f74d8",
   "metadata": {},
   "source": [
    "**title():** Convert string to title case\n"
   ]
  },
  {
   "cell_type": "code",
   "execution_count": 6,
   "id": "6cc30122-ec06-41b1-909f-dd240e15b3c5",
   "metadata": {},
   "outputs": [
    {
     "name": "stdout",
     "output_type": "stream",
     "text": [
      "Vedanti\n"
     ]
    }
   ],
   "source": [
    "print(name.title())"
   ]
  },
  {
   "cell_type": "markdown",
   "id": "7078c06b-d58a-4b52-b797-9d8595d43029",
   "metadata": {},
   "source": [
    "**swapcase():** Swap the cases of all characters in a string\n"
   ]
  },
  {
   "cell_type": "code",
   "execution_count": 7,
   "id": "30d43bb0-adfc-4902-bbb4-9b0f88a95054",
   "metadata": {},
   "outputs": [
    {
     "name": "stdout",
     "output_type": "stream",
     "text": [
      "vEDANTI\n"
     ]
    }
   ],
   "source": [
    "print(name.swapcase())"
   ]
  },
  {
   "cell_type": "markdown",
   "id": "430714d9-02a0-4cb4-9f34-1591ae855a5e",
   "metadata": {},
   "source": [
    "**capitalize():** Convert the first character of a string to uppercase"
   ]
  },
  {
   "cell_type": "code",
   "execution_count": 8,
   "id": "b4aba1c3-8f11-4190-9ee5-9ef4d0bdf075",
   "metadata": {},
   "outputs": [
    {
     "name": "stdout",
     "output_type": "stream",
     "text": [
      "Vedanti\n"
     ]
    }
   ],
   "source": [
    "print(name.capitalize())"
   ]
  },
  {
   "cell_type": "markdown",
   "id": "5b943c34-d41a-46fa-9f3f-8c455eef6996",
   "metadata": {},
   "source": [
    "**count():** Counts the number of characters in the string\n"
   ]
  },
  {
   "cell_type": "code",
   "execution_count": 9,
   "id": "78a0ddd0-805e-4a44-9d6a-5cd0ac13b7b3",
   "metadata": {},
   "outputs": [
    {
     "name": "stdout",
     "output_type": "stream",
     "text": [
      "1\n"
     ]
    }
   ],
   "source": [
    "print(name.count(\"a\"))"
   ]
  },
  {
   "cell_type": "markdown",
   "id": "4fbfd15c-2fd9-41c5-8159-d9148405c04d",
   "metadata": {},
   "source": [
    "**isalnum():** It is used to check whether the string is an alph-numeric string or it has any special characters. It gives answer in 'True' or 'False' ."
   ]
  },
  {
   "cell_type": "code",
   "execution_count": 10,
   "id": "93c147a3-285c-4ab8-a66f-e85f6dbc8661",
   "metadata": {},
   "outputs": [
    {
     "name": "stdout",
     "output_type": "stream",
     "text": [
      "True\n"
     ]
    }
   ],
   "source": [
    "print(name.isalnum())"
   ]
  },
  {
   "cell_type": "markdown",
   "id": "e425c394-e9d0-444d-81eb-fe1bfa963ed8",
   "metadata": {},
   "source": [
    "**isnumeric():** It is used to check whether it is numeric or not. It gives answer in 'True' or 'False' ."
   ]
  },
  {
   "cell_type": "code",
   "execution_count": 14,
   "id": "0e1d8e52-58bc-4742-8905-63dd91c563d2",
   "metadata": {},
   "outputs": [
    {
     "ename": "AttributeError",
     "evalue": "'int' object has no attribute 'isnumeric'",
     "output_type": "error",
     "traceback": [
      "\u001b[1;31m---------------------------------------------------------------------------\u001b[0m",
      "\u001b[1;31mAttributeError\u001b[0m                            Traceback (most recent call last)",
      "Cell \u001b[1;32mIn[14], line 1\u001b[0m\n\u001b[1;32m----> 1\u001b[0m \u001b[38;5;28mprint\u001b[39m(number\u001b[38;5;241m.\u001b[39misnumeric())\n",
      "\u001b[1;31mAttributeError\u001b[0m: 'int' object has no attribute 'isnumeric'"
     ]
    }
   ],
   "source": [
    "print(number.isnumeric())"
   ]
  },
  {
   "cell_type": "code",
   "execution_count": null,
   "id": "a17b8458-a4c3-4b32-a34b-387b86214c6d",
   "metadata": {},
   "outputs": [],
   "source": []
  },
  {
   "cell_type": "code",
   "execution_count": null,
   "id": "2779892b-7b30-4411-b508-77d6615bab15",
   "metadata": {},
   "outputs": [],
   "source": []
  },
  {
   "cell_type": "code",
   "execution_count": null,
   "id": "504d6512-c7b0-4699-ac50-084a8725015b",
   "metadata": {},
   "outputs": [],
   "source": []
  }
 ],
 "metadata": {
  "kernelspec": {
   "display_name": "Python 3 (ipykernel)",
   "language": "python",
   "name": "python3"
  },
  "language_info": {
   "codemirror_mode": {
    "name": "ipython",
    "version": 3
   },
   "file_extension": ".py",
   "mimetype": "text/x-python",
   "name": "python",
   "nbconvert_exporter": "python",
   "pygments_lexer": "ipython3",
   "version": "3.11.7"
  }
 },
 "nbformat": 4,
 "nbformat_minor": 5
}
