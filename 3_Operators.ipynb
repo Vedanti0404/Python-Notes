{
 "cells": [
  {
   "cell_type": "code",
   "execution_count": 1,
   "id": "e83a34fa-453c-4b6d-999a-9b3a4c4bbd9a",
   "metadata": {},
   "outputs": [],
   "source": [
    "num1=10\n",
    "num2=3\n"
   ]
  },
  {
   "cell_type": "markdown",
   "id": "2fb6e536-d62c-44ee-b5a5-286626579898",
   "metadata": {},
   "source": [
    "## Arithmetic Operators"
   ]
  },
  {
   "cell_type": "code",
   "execution_count": 3,
   "id": "fd9742f4-be65-4f86-9268-2bbd2ee1945e",
   "metadata": {},
   "outputs": [
    {
     "name": "stdout",
     "output_type": "stream",
     "text": [
      "num1 + num2 :  13\n",
      "num1 - num2 :  7\n",
      "num1 * num2 :  30\n",
      "num1 / num2 :  3.3333333333333335\n",
      "num1 // num2 :  3\n",
      "num1 ** num2 :  1000\n",
      "num1 % num2 :  1\n"
     ]
    }
   ],
   "source": [
    "print(\"num1 + num2 : \",num1+num2)\n",
    "print(\"num1 - num2 : \",num1-num2)\n",
    "print(\"num1 * num2 : \",num1*num2)\n",
    "print(\"num1 / num2 : \",num1/num2)\n",
    "print(\"num1 // num2 : \",num1//num2)\n",
    "print(\"num1 ** num2 : \",num1**num2)\n",
    "print(\"num1 % num2 : \",num1%num2)"
   ]
  },
  {
   "cell_type": "markdown",
   "id": "ab807f07-51da-4de5-b5e2-fe1ef76f08a9",
   "metadata": {},
   "source": [
    "## Assignment Operators"
   ]
  },
  {
   "cell_type": "code",
   "execution_count": 12,
   "id": "09d864f7-3846-4154-a4d4-69bd354603b5",
   "metadata": {},
   "outputs": [
    {
     "name": "stdout",
     "output_type": "stream",
     "text": [
      "0\n"
     ]
    }
   ],
   "source": [
    "a=4\n",
    "#a+=2\n",
    "#a-=2\n",
    "#a*=2\n",
    "#a/=2\n",
    "#a//=2\n",
    "#a**=2\n",
    "#a%=2\n",
    "print(a)"
   ]
  },
  {
   "cell_type": "markdown",
   "id": "8f09a419-1f50-4a8a-a95b-75cffd2164e2",
   "metadata": {},
   "source": [
    "## Comparison Operators"
   ]
  },
  {
   "cell_type": "code",
   "execution_count": 14,
   "id": "6e4bad4c-66e6-400b-b5fa-5c1922195147",
   "metadata": {},
   "outputs": [
    {
     "name": "stdout",
     "output_type": "stream",
     "text": [
      "True\n",
      "False\n",
      "True\n",
      "True\n"
     ]
    }
   ],
   "source": [
    "x=8\n",
    "y=3\n",
    "z=8\n",
    "print(x>y)   # Greater than \n",
    "print(x<y)   # Less than\n",
    "print(x!=y)  # Not Equal too\n",
    "print(x==z)  # is equal too"
   ]
  },
  {
   "cell_type": "markdown",
   "id": "6f6bf495-09fa-4484-a2eb-32113709d832",
   "metadata": {},
   "source": [
    "## Logical Operators"
   ]
  },
  {
   "cell_type": "code",
   "execution_count": 18,
   "id": "b18835bc-8fc6-4794-8cbc-ae47915ca0c2",
   "metadata": {},
   "outputs": [
    {
     "name": "stdout",
     "output_type": "stream",
     "text": [
      "False\n",
      "True\n",
      "True\n",
      "False\n"
     ]
    }
   ],
   "source": [
    "print(x==z and x<y)\n",
    "print(x==z or x<y)\n",
    "print(not(False))\n",
    "print(not(True))"
   ]
  },
  {
   "cell_type": "code",
   "execution_count": null,
   "id": "de327234-e466-417f-8fe5-2f01022ed7a9",
   "metadata": {},
   "outputs": [],
   "source": []
  }
 ],
 "metadata": {
  "kernelspec": {
   "display_name": "Python 3 (ipykernel)",
   "language": "python",
   "name": "python3"
  },
  "language_info": {
   "codemirror_mode": {
    "name": "ipython",
    "version": 3
   },
   "file_extension": ".py",
   "mimetype": "text/x-python",
   "name": "python",
   "nbconvert_exporter": "python",
   "pygments_lexer": "ipython3",
   "version": "3.11.7"
  }
 },
 "nbformat": 4,
 "nbformat_minor": 5
}
