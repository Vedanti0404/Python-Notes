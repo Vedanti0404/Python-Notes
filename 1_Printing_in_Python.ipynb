{
 "cells": [
  {
   "cell_type": "markdown",
   "id": "bd14a826-3341-4d4f-868c-eac1391462ee",
   "metadata": {},
   "source": [
    "## For Printing Text, Strings always use \" \" inside the brackets"
   ]
  },
  {
   "cell_type": "code",
   "execution_count": 1,
   "id": "40edb99f-45b0-48d2-9057-5a5ef4026fa9",
   "metadata": {},
   "outputs": [
    {
     "name": "stdout",
     "output_type": "stream",
     "text": [
      "Hi, this is my first Python Code\n"
     ]
    }
   ],
   "source": [
    "print(\"Hi, this is my first Python Code\")"
   ]
  },
  {
   "cell_type": "markdown",
   "id": "b6283a1d-3e77-4a86-97e8-35028b555f93",
   "metadata": {},
   "source": [
    "## For Printing integers NO NEED TO USE \" \" inside the brackets"
   ]
  },
  {
   "cell_type": "code",
   "execution_count": 3,
   "id": "bf105228-9953-41e3-a1cc-c4a0c33cc144",
   "metadata": {},
   "outputs": [
    {
     "name": "stdout",
     "output_type": "stream",
     "text": [
      "5\n",
      "255\n"
     ]
    }
   ],
   "source": [
    "print(5)\n",
    "print(17*15)"
   ]
  },
  {
   "cell_type": "markdown",
   "id": "d611c9bb-fdde-40d1-ae9a-e990bcb9d39d",
   "metadata": {},
   "source": [
    "## Use of Escape Sequence"
   ]
  },
  {
   "cell_type": "code",
   "execution_count": 4,
   "id": "c32225a9-46c2-4b11-ba42-81c531496640",
   "metadata": {},
   "outputs": [
    {
     "name": "stdout",
     "output_type": "stream",
     "text": [
      "My name is Vedanti\n",
      " i am 20 yrs old\n",
      " i am currently pursuing B.Tech in Computer Science\n",
      "and Business System.\n"
     ]
    }
   ],
   "source": [
    "print(\"My name is Vedanti\\n i am 20 yrs old\\n i am currently pursuing B.Tech in Computer Science\\nand Business System.\")"
   ]
  },
  {
   "cell_type": "markdown",
   "id": "544e1c0c-85fb-464b-bdf3-b56327b80465",
   "metadata": {},
   "source": [
    "### print(object , sep=separator(Specify how to separate objects , if there are more than one), end=end (Specify what to print at the end),file=file(An Object with a write method),flush= flush)"
   ]
  },
  {
   "cell_type": "code",
   "execution_count": 6,
   "id": "551051eb-de48-4487-8285-4fbc9f035d8a",
   "metadata": {},
   "outputs": [
    {
     "name": "stdout",
     "output_type": "stream",
     "text": [
      "Hello~6~7HELLO\n",
      "90000\n"
     ]
    }
   ],
   "source": [
    "print(\"Hello\", 6 ,7 , sep=\"~\", end=\"HELLO\\n\") \n",
    "print(90000)"
   ]
  },
  {
   "cell_type": "code",
   "execution_count": null,
   "id": "4710cd0a-41fd-4c30-bf1d-dfb0a5198eee",
   "metadata": {},
   "outputs": [],
   "source": []
  }
 ],
 "metadata": {
  "kernelspec": {
   "display_name": "Python 3 (ipykernel)",
   "language": "python",
   "name": "python3"
  },
  "language_info": {
   "codemirror_mode": {
    "name": "ipython",
    "version": 3
   },
   "file_extension": ".py",
   "mimetype": "text/x-python",
   "name": "python",
   "nbconvert_exporter": "python",
   "pygments_lexer": "ipython3",
   "version": "3.11.7"
  }
 },
 "nbformat": 4,
 "nbformat_minor": 5
}
