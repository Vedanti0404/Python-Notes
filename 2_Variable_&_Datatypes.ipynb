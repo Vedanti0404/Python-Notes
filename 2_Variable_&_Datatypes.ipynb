{
 "cells": [
  {
   "cell_type": "markdown",
   "id": "4d741742-43a0-4e99-b0f2-50871be37412",
   "metadata": {},
   "source": [
    "## Variables are like the containers for storing data of different datatypes.s."
   ]
  },
  {
   "cell_type": "markdown",
   "id": "602adf0e-bb24-44e7-9fcc-127628e5d145",
   "metadata": {},
   "source": [
    "## On the other hand Datatype specifies the types of value the variable holds."
   ]
  },
  {
   "cell_type": "code",
   "execution_count": 1,
   "id": "f5451529-b2c7-4e52-9525-b857fd20592c",
   "metadata": {},
   "outputs": [
    {
     "name": "stdout",
     "output_type": "stream",
     "text": [
      "21\n",
      "Vedanti\n",
      "Abhi\n",
      "33.25\n",
      "Vedanti\n"
     ]
    }
   ],
   "source": [
    "a=21\n",
    "print(a)\n",
    "\n",
    "b=\"Vedanti\"\n",
    "print(b)\n",
    "\n",
    "Abhi=33\n",
    "c=\"Abhi\"\n",
    "print(c)\n",
    "\n",
    "Abhi=33.25\n",
    "c=Abhi\n",
    "print(c)\n",
    "\n",
    "d=True\n",
    "print(b)\n",
    "#here we store 21 which is an integer in a variable 'a' , it is like storing that integer in the memory and printing the variable instead of the value.\n",
    "#Suppose there is a big integer like 12345678910 so it becomes tidious to remember such larger values an printing it.So to increase the efficiency of the \n",
    "#code we store it in a variable and then print the variable itself. The same goes with strings too."
   ]
  },
  {
   "cell_type": "markdown",
   "id": "0deb3718-692b-4504-bb71-1b188d26cb3c",
   "metadata": {},
   "source": [
    "### Finding the datatype of the variable."
   ]
  },
  {
   "cell_type": "code",
   "execution_count": 2,
   "id": "4be9c6f2-351e-4ce1-92ab-524a4b44909d",
   "metadata": {},
   "outputs": [
    {
     "name": "stdout",
     "output_type": "stream",
     "text": [
      "the datatype of a is <class 'int'>\n",
      "the datatype of b is <class 'str'>\n",
      "the datatype of c is <class 'float'>\n",
      "the datatype of d is <class 'bool'>\n"
     ]
    }
   ],
   "source": [
    "print(\"the datatype of a is\", type(a))\n",
    "print(\"the datatype of b is\", type(b))\n",
    "print(\"the datatype of c is\", type(c))\n",
    "print(\"the datatype of d is\", type(d))"
   ]
  },
  {
   "cell_type": "markdown",
   "id": "7de50885-4623-41b4-b969-c8da2e7414a6",
   "metadata": {},
   "source": [
    "## **List**: Ordered collection of elements separated by comma and enclosed in square brackets.Lists are mutable and can be modified after creation\n"
   ]
  },
  {
   "cell_type": "code",
   "execution_count": 3,
   "id": "514d293c-b63b-4e3b-b6b3-8431efcd6b26",
   "metadata": {},
   "outputs": [
    {
     "name": "stdout",
     "output_type": "stream",
     "text": [
      "[[1, 2], ['Apple']]\n"
     ]
    }
   ],
   "source": [
    "list=[[1,2,],[\"Apple\"]]\n",
    "print(list)"
   ]
  },
  {
   "cell_type": "markdown",
   "id": "dd7de05d-045c-4304-b0be-e5f88073ddb6",
   "metadata": {},
   "source": [
    "## **Tuple:** Ordered collection of elements separated by comma and enclosed in Paranthesis.Tuples are immutable and cannot be modified after creation\r\n"
   ]
  },
  {
   "cell_type": "code",
   "execution_count": 4,
   "id": "8fdc30a1-2f58-42ca-b141-716ae49b5bcf",
   "metadata": {},
   "outputs": [
    {
     "name": "stdout",
     "output_type": "stream",
     "text": [
      "((1, 2), ('Apple', 'Banana'))\n"
     ]
    }
   ],
   "source": [
    "tuple=((1,2),(\"Apple\",\"Banana\"))\n",
    "print(tuple)"
   ]
  },
  {
   "cell_type": "markdown",
   "id": "9565b57f-bf9c-4f6c-96b0-6731743f6df6",
   "metadata": {},
   "source": [
    "## **Mapped Data:** dict."
   ]
  },
  {
   "cell_type": "markdown",
   "id": "484c2882-f9aa-44ec-b331-4ce2c08d29e9",
   "metadata": {},
   "source": [
    "### dict: It is a dictionary which is an unordered collection of data containing a key:value pair. The key:value pair is enclosed within curly brackets."
   ]
  },
  {
   "cell_type": "code",
   "execution_count": 5,
   "id": "7b29784c-61bf-4d6c-b452-d6914db812a8",
   "metadata": {},
   "outputs": [
    {
     "name": "stdout",
     "output_type": "stream",
     "text": [
      "{'name': 'Vedanti', 'age': 20, 'Can_Vote': True}\n"
     ]
    }
   ],
   "source": [
    "dict={\"name\":\"Vedanti\",\"age\":20,\"Can_Vote\":True}\n",
    "print(dict)"
   ]
  },
  {
   "cell_type": "markdown",
   "id": "0e3b3096-00b3-4d79-bb72-83c1701e7616",
   "metadata": {},
   "source": [
    "## Typecasting"
   ]
  },
  {
   "cell_type": "code",
   "execution_count": 6,
   "id": "8ad915c4-119a-4373-87d3-1c6e586f679c",
   "metadata": {},
   "outputs": [
    {
     "name": "stdout",
     "output_type": "stream",
     "text": [
      "6\n",
      "6\n"
     ]
    }
   ],
   "source": [
    "e = \"5\"\n",
    "print(int(e) + 1)  \n",
    "f = 5\n",
    "print(f+1)  "
   ]
  },
  {
   "cell_type": "code",
   "execution_count": null,
   "id": "54998c1b-e051-4204-a7fc-de7bce8041cc",
   "metadata": {},
   "outputs": [],
   "source": []
  }
 ],
 "metadata": {
  "kernelspec": {
   "display_name": "Python 3 (ipykernel)",
   "language": "python",
   "name": "python3"
  },
  "language_info": {
   "codemirror_mode": {
    "name": "ipython",
    "version": 3
   },
   "file_extension": ".py",
   "mimetype": "text/x-python",
   "name": "python",
   "nbconvert_exporter": "python",
   "pygments_lexer": "ipython3",
   "version": "3.11.7"
  }
 },
 "nbformat": 4,
 "nbformat_minor": 5
}
